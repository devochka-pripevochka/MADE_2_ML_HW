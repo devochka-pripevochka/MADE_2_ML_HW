{
 "cells": [
  {
   "cell_type": "code",
   "execution_count": 33,
   "metadata": {},
   "outputs": [],
   "source": [
    "import pickle\n",
    "import warnings\n",
    "import matplotlib.pyplot as plt\n",
    "import pandas as pd\n",
    "import numpy as np\n",
    "from collections import defaultdict\n",
    "from datetime import datetime\n",
    "from tqdm import tqdm\n",
    "from scipy.stats import spearmanr, kendalltau\n",
    "from sklearn.linear_model import LogisticRegression, LinearRegression\n",
    "from sklearn.preprocessing import OneHotEncoder\n",
    "\n",
    "warnings.filterwarnings(\"ignore\")"
   ]
  },
  {
   "cell_type": "code",
   "execution_count": 34,
   "metadata": {},
   "outputs": [
    {
     "name": "stdout",
     "output_type": "stream",
     "text": [
      "CPU times: user 39.9 s, sys: 1min 41s, total: 2min 21s\n",
      "Wall time: 3min 3s\n"
     ]
    }
   ],
   "source": [
    "%%time\n",
    "with open(\"tournaments.pkl\", \"rb\") as f:\n",
    "    tournaments = pickle.load(f)\n",
    "with open(\"results.pkl\", \"rb\") as f:\n",
    "    results = pickle.load(f)\n",
    "with open(\"players.pkl\", \"rb\") as f:\n",
    "    players = pickle.load(f)"
   ]
  },
  {
   "cell_type": "markdown",
   "metadata": {},
   "source": [
    "# 1"
   ]
  },
  {
   "cell_type": "code",
   "execution_count": 35,
   "metadata": {},
   "outputs": [],
   "source": [
    "def msk(tournament):\n",
    "    flg = True\n",
    "    for team in tournament:\n",
    "        if (len(team['teamMembers']) == 0) or (team.get('mask') is None):\n",
    "            flg = False\n",
    "    return flg"
   ]
  },
  {
   "cell_type": "code",
   "execution_count": 36,
   "metadata": {},
   "outputs": [],
   "source": [
    "results_corrected  = [i for i in results.keys() if msk(results[i])]"
   ]
  },
  {
   "cell_type": "code",
   "execution_count": 37,
   "metadata": {},
   "outputs": [],
   "source": [
    "train_tournaments_labels = []\n",
    "test_tournaments_labels = []\n",
    "\n",
    "for i in tournaments.keys():\n",
    "    if i in results_corrected:\n",
    "        if tournaments[i]['dateStart'][:4] == '2019':\n",
    "            train_tournaments_labels.append(i)\n",
    "        elif tournaments[i]['dateStart'][:4] == '2020':\n",
    "            test_tournaments_labels.append(i)"
   ]
  },
  {
   "cell_type": "code",
   "execution_count": 38,
   "metadata": {},
   "outputs": [
    {
     "data": {
      "text/plain": [
       "657"
      ]
     },
     "execution_count": 38,
     "metadata": {},
     "output_type": "execute_result"
    }
   ],
   "source": [
    "len(train_tournaments_labels)"
   ]
  },
  {
   "cell_type": "code",
   "execution_count": 39,
   "metadata": {},
   "outputs": [
    {
     "data": {
      "text/plain": [
       "386"
      ]
     },
     "execution_count": 39,
     "metadata": {},
     "output_type": "execute_result"
    }
   ],
   "source": [
    "len(test_tournaments_labels)"
   ]
  },
  {
   "cell_type": "code",
   "execution_count": 40,
   "metadata": {},
   "outputs": [],
   "source": [
    "data = {\n",
    "    'tournament_id': [],\n",
    "    'tournament_name': [],\n",
    "    'team_id': [],\n",
    "    'player_id': [],\n",
    "    'player_name': [],\n",
    "    'player_surname': [],\n",
    "    'question_num': [],\n",
    "    'question_result': []\n",
    "}\n",
    "\n",
    "def to_int(x):\n",
    "    try:\n",
    "        return int(x)\n",
    "    except:\n",
    "        return 0\n",
    "\n",
    "for i in train_tournaments_labels:\n",
    "    for team in results[i]:\n",
    "        for player in team['teamMembers']:\n",
    "            for question_num in range(len(team['mask'])):\n",
    "                if team['mask'][question_num] != 'X':\n",
    "                    data['tournament_id'].append(tournaments[i]['id'])\n",
    "                    data['tournament_name'].append(tournaments[i]['name'])\n",
    "                    data['team_id'].append(team['team']['id'])\n",
    "                    data['player_id'].append(player['player']['id'])\n",
    "                    data['player_name'].append(player['player']['name'])\n",
    "                    data['player_surname'].append(player['player']['surname'])\n",
    "                    data['question_num'].append(question_num)\n",
    "                    data['question_result'].append(to_int(team['mask'][question_num]))\n",
    "                \n",
    "                \n",
    "data_train = pd.DataFrame.from_dict(data)"
   ]
  },
  {
   "cell_type": "markdown",
   "metadata": {},
   "source": [
    "# 2"
   ]
  },
  {
   "cell_type": "code",
   "execution_count": 41,
   "metadata": {},
   "outputs": [],
   "source": [
    "data_train = data_train.merge((data_train.groupby('tournament_id')['team_id'].nunique()/data_train['team_id'].nunique()).to_frame('teams_qnt_rate').reset_index(), on='tournament_id', how='left')\n",
    "data_train = data_train.merge(data_train.groupby('tournament_id')['question_result'].mean().to_frame('mean_tournament_answered').reset_index(), on='tournament_id', how='left')\n",
    "data_train = data_train.merge(data_train.groupby(['tournament_id', 'question_num'])['question_result'].mean().to_frame('question_dificulty').reset_index(), on=['tournament_id', 'question_num'], how='left')\n",
    "data_train = data_train.merge(data_train.groupby(['tournament_id', 'player_id'])['question_result'].mean().to_frame('player_strength').reset_index(), on=['tournament_id', 'player_id'], how='left')"
   ]
  },
  {
   "cell_type": "code",
   "execution_count": 42,
   "metadata": {},
   "outputs": [],
   "source": [
    "A_train = (data_train['teams_qnt_rate'] + data_train['mean_tournament_answered'] + data_train['question_dificulty'] + data_train['player_strength'] + data_train['question_result'].mean()).values\n",
    "A_train = A_train.reshape(-1, 1)\n",
    "A_train = np.append(A_train, np.ones((A_train.shape[0], 1)), axis=1)\n",
    "\n",
    "B_train = data_train['question_result'].values\n",
    "B_train = B_train.reshape(-1, 1)"
   ]
  },
  {
   "cell_type": "code",
   "execution_count": 43,
   "metadata": {},
   "outputs": [
    {
     "data": {
      "text/plain": [
       "LogisticRegression(C=1.0, class_weight=None, dual=False, fit_intercept=True,\n",
       "                   intercept_scaling=1, l1_ratio=None, max_iter=100,\n",
       "                   multi_class='warn', n_jobs=None, penalty='l2',\n",
       "                   random_state=None, solver='lbfgs', tol=0.0001, verbose=0,\n",
       "                   warm_start=False)"
      ]
     },
     "execution_count": 43,
     "metadata": {},
     "output_type": "execute_result"
    }
   ],
   "source": [
    "model = LogisticRegression(solver = 'lbfgs')\n",
    "model.fit(X_train[:, 0].reshape(-1, 1), y_train)"
   ]
  },
  {
   "cell_type": "code",
   "execution_count": 44,
   "metadata": {},
   "outputs": [],
   "source": [
    "def calc_rating(prediction, player_rating_table=None, rating_name='rating'):\n",
    "    \n",
    "    temp_player_rating = data_train['player_id'].to_frame().copy()\n",
    "    temp_player_rating['probability'] = prediction\n",
    "    temp_player_rating = temp_player_rating.groupby('player_id')['probability'].mean().to_frame(rating_name).reset_index()\n",
    "    \n",
    "    if player_rating_table is None:\n",
    "        player_rating_table = temp_player_rating\n",
    "    else:\n",
    "        if rating_name in player_rating_table.columns:\n",
    "            player_rating_table[rating_name] = temp_player_rating[rating_name]\n",
    "        else:\n",
    "            player_rating_table = player_rating_table.merge(temp_player_rating, how='left', on='player_id')\n",
    "        \n",
    "    return player_rating_table"
   ]
  },
  {
   "cell_type": "markdown",
   "metadata": {},
   "source": [
    "# 3"
   ]
  },
  {
   "cell_type": "code",
   "execution_count": 45,
   "metadata": {},
   "outputs": [],
   "source": [
    "data = {\n",
    "    'tournament_id': [],\n",
    "    'tournament_name': [],\n",
    "    'team_id': [],\n",
    "    'player_id': [],\n",
    "    'position' : [],\n",
    "}\n",
    "\n",
    "for i in test_tournaments_labels:\n",
    "    for team in results[i]:\n",
    "        for player in team['teamMembers']:\n",
    "            data['tournament_id'].append(tournaments[i]['id'])\n",
    "            data['tournament_name'].append(tournaments[i]['name'])\n",
    "            data['team_id'].append(team['team']['id'])\n",
    "            data['player_id'].append(player['player']['id'])\n",
    "            data['position'].append(int(team['position']))\n",
    "                                \n",
    "data_test = pd.DataFrame.from_dict(data)"
   ]
  },
  {
   "cell_type": "code",
   "execution_count": 46,
   "metadata": {},
   "outputs": [],
   "source": [
    "def check_quality(test_df, rating_df, rating_name):\n",
    "    \n",
    "    test_df = test_df.merge(rating_df, on='player_id', how='left')\n",
    "    test_df[rating_name] = test_df[rating_name].fillna(0)\n",
    "    data_test_grouped = test_df.groupby(['tournament_id', 'team_id', 'position'])[rating_name].sum().to_frame().reset_index()\n",
    "\n",
    "    spearmanr_list = []\n",
    "    kendalltau_list = []\n",
    "\n",
    "    for i in data_test_grouped['tournament_id'].drop_duplicates():\n",
    "        temp = data_test_grouped[data_test_grouped['tournament_id']==i]\n",
    "        if temp.shape[0] > 1:\n",
    "            spearmanr_value, _ = spearmanr(temp['position'], temp[rating_name])\n",
    "            kendalltau_value, _ = kendalltau(temp['position'], temp[rating_name])\n",
    "            spearmanr_list.append(spearmanr_value)\n",
    "            kendalltau_list.append(kendalltau_value)\n",
    "\n",
    "    return np.mean(spearmanr_list), np.mean(kendalltau_list)"
   ]
  },
  {
   "cell_type": "code",
   "execution_count": 47,
   "metadata": {},
   "outputs": [
    {
     "name": "stdout",
     "output_type": "stream",
     "text": [
      "Корреляция Спирмана: -0.5929472671744298\n",
      "Корреляция Кендала: -0.4469306480998754\n"
     ]
    }
   ],
   "source": [
    "spearman, kendal = check_quality(test_df=data_test.copy(), \n",
    "                                 rating_df=player_rating.copy(), \n",
    "                                 rating_name='rating')\n",
    "print('Корреляция Спирмана:', spearman)\n",
    "print('Корреляция Кендала:', kendal)"
   ]
  },
  {
   "cell_type": "markdown",
   "metadata": {},
   "source": [
    "# 4"
   ]
  },
  {
   "cell_type": "code",
   "execution_count": 48,
   "metadata": {},
   "outputs": [],
   "source": [
    "def sigmoid(x):\n",
    "    return 1 / (1 + np.exp(-x))\n",
    "\n",
    "def net_input(theta, x):\n",
    "    return np.dot(x, theta)\n",
    "\n",
    "def probability(theta, x):\n",
    "    return sigmoid(net_input(theta, x))\n",
    "\n",
    "def cost_function(theta, x, y):\n",
    "    m = x.shape[0]\n",
    "    total_cost = -(1 / m) * np.sum(\n",
    "        y * np.log(probability(theta, x)) + (1 - y) * np.log(\n",
    "            1 - probability(theta, x)))\n",
    "    return total_cost\n",
    "\n",
    "def gradient(theta, x, y):\n",
    "    m = x.shape[0]\n",
    "    return (1 / m) * np.dot(x.T, sigmoid(net_input(theta,   x)) - y)\n",
    "\n",
    "def fit(x, y, theta):\n",
    "    opt_weights = fmin_tnc(func=cost_function, x0=theta,\n",
    "                  fprime=gradient,args=(x, y.flatten()))\n",
    "    return opt_weights[0]"
   ]
  },
  {
   "cell_type": "code",
   "execution_count": 49,
   "metadata": {},
   "outputs": [],
   "source": [
    "pi = 0.1 # p(z==1)\n",
    "n_0 = len(data_train['question_result'])-sum(data_train['question_result'])\n",
    "n_u = sum(data_train['question_result'])"
   ]
  },
  {
   "cell_type": "code",
   "execution_count": 50,
   "metadata": {},
   "outputs": [
    {
     "name": "stdout",
     "output_type": "stream",
     "text": [
      "Шаг 1\n",
      "Корреляция Спирмана: -0.678335498462195\n",
      "Корреляция Кендала: -0.5217955726725476\n",
      "\n",
      "Шаг 2\n",
      "Корреляция Спирмана: -0.6849846342261009\n",
      "Корреляция Кендала: -0.528061876457905\n",
      "\n",
      "Шаг 3\n",
      "Корреляция Спирмана: -0.6852120172712344\n",
      "Корреляция Кендала: -0.5285588821488211\n",
      "\n"
     ]
    }
   ],
   "source": [
    "N = 3\n",
    "for step_number in range(N):\n",
    "    \n",
    "    if step_number == 0:\n",
    "        z_new, coefs, player_rating = em_step(X_train=X_train.copy(), \n",
    "                                              y_train=y_train.copy(), \n",
    "                                              z_train=None,\n",
    "                                              write_rating_to = player_rating,\n",
    "                                              rating_name='rating_new'\n",
    "                                             )\n",
    "    else:\n",
    "        z_new, coefs, player_rating = em_step(X_train=X_train.copy(), \n",
    "                                      y_train=y_train.copy(), \n",
    "                                      z_train=z_new.copy(),\n",
    "                                      write_rating_to = player_rating,\n",
    "                                      rating_name='rating_new'\n",
    "                                     )\n",
    "\n",
    "    \n",
    "    spearman, kendal = check_quality(test_df=data_test.copy(), \n",
    "                                     rating_df=player_rating.copy(), \n",
    "                                     rating_name='rating_new')\n",
    "    print('Шаг', step_number+1)\n",
    "    print('Корреляция Спирмана:', spearman)\n",
    "    print('Корреляция Кендала:', kendal)"
   ]
  },
  {
   "cell_type": "markdown",
   "metadata": {},
   "source": [
    "# 5"
   ]
  },
  {
   "cell_type": "code",
   "execution_count": 51,
   "metadata": {},
   "outputs": [],
   "source": [
    "temp_data_train = data_train.copy()\n",
    "temp_data_train = temp_data_train.merge(player_rating[['player_id', 'rating_new']], how='left', on='player_id')\n",
    "temp_data_train = temp_data_train.groupby(['tournament_id', 'tournament_name', 'team_id', 'question_num', 'question_result']).agg({'rating_new':'sum'}).reset_index()\n",
    "temp_data_train = temp_data_train.groupby(['tournament_id', 'tournament_name']).agg({'rating_new':'mean'}).reset_index()"
   ]
  },
  {
   "cell_type": "markdown",
   "metadata": {},
   "source": [
    "Самые лёгкие"
   ]
  },
  {
   "cell_type": "code",
   "execution_count": 52,
   "metadata": {},
   "outputs": [
    {
     "data": {
      "text/html": [
       "<div>\n",
       "<style scoped>\n",
       "    .dataframe tbody tr th:only-of-type {\n",
       "        vertical-align: middle;\n",
       "    }\n",
       "\n",
       "    .dataframe tbody tr th {\n",
       "        vertical-align: top;\n",
       "    }\n",
       "\n",
       "    .dataframe thead th {\n",
       "        text-align: right;\n",
       "    }\n",
       "</style>\n",
       "<table border=\"1\" class=\"dataframe\">\n",
       "  <thead>\n",
       "    <tr style=\"text-align: right;\">\n",
       "      <th></th>\n",
       "      <th>tournament_name</th>\n",
       "      <th>rating_new</th>\n",
       "    </tr>\n",
       "  </thead>\n",
       "  <tbody>\n",
       "    <tr>\n",
       "      <th>619</th>\n",
       "      <td>One ring - async</td>\n",
       "      <td>0.128201</td>\n",
       "    </tr>\n",
       "    <tr>\n",
       "      <th>376</th>\n",
       "      <td>Чемпионат Таджикистана</td>\n",
       "      <td>0.136663</td>\n",
       "    </tr>\n",
       "    <tr>\n",
       "      <th>633</th>\n",
       "      <td>ДР Земцовского</td>\n",
       "      <td>0.168761</td>\n",
       "    </tr>\n",
       "    <tr>\n",
       "      <th>69</th>\n",
       "      <td>Парный асинхронный турнир ChGK is...</td>\n",
       "      <td>0.209183</td>\n",
       "    </tr>\n",
       "    <tr>\n",
       "      <th>557</th>\n",
       "      <td>Открытый Студенческий чемпионат Краснодарского...</td>\n",
       "      <td>0.218041</td>\n",
       "    </tr>\n",
       "    <tr>\n",
       "      <th>140</th>\n",
       "      <td>Зимник</td>\n",
       "      <td>0.227262</td>\n",
       "    </tr>\n",
       "    <tr>\n",
       "      <th>174</th>\n",
       "      <td>Зимние игры</td>\n",
       "      <td>0.237733</td>\n",
       "    </tr>\n",
       "    <tr>\n",
       "      <th>286</th>\n",
       "      <td>Чемпионат Туркменистана</td>\n",
       "      <td>0.238974</td>\n",
       "    </tr>\n",
       "    <tr>\n",
       "      <th>630</th>\n",
       "      <td>Открытый кубок МВУТ</td>\n",
       "      <td>0.245495</td>\n",
       "    </tr>\n",
       "    <tr>\n",
       "      <th>321</th>\n",
       "      <td>Чемпионат Кыргызстана</td>\n",
       "      <td>0.247279</td>\n",
       "    </tr>\n",
       "  </tbody>\n",
       "</table>\n",
       "</div>"
      ],
      "text/plain": [
       "                                       tournament_name  rating_new\n",
       "619                                   One ring - async    0.128201\n",
       "376                             Чемпионат Таджикистана    0.136663\n",
       "633                                     ДР Земцовского    0.168761\n",
       "69                Парный асинхронный турнир ChGK is...    0.209183\n",
       "557  Открытый Студенческий чемпионат Краснодарского...    0.218041\n",
       "140                                             Зимник    0.227262\n",
       "174                                        Зимние игры    0.237733\n",
       "286                            Чемпионат Туркменистана    0.238974\n",
       "630                                Открытый кубок МВУТ    0.245495\n",
       "321                              Чемпионат Кыргызстана    0.247279"
      ]
     },
     "execution_count": 52,
     "metadata": {},
     "output_type": "execute_result"
    }
   ],
   "source": [
    "temp_data_train.sort_values('rating_new', ascending=True)[['tournament_name', 'rating_new']].head(10)"
   ]
  },
  {
   "cell_type": "markdown",
   "metadata": {},
   "source": [
    "Самые сложные"
   ]
  },
  {
   "cell_type": "code",
   "execution_count": 53,
   "metadata": {},
   "outputs": [
    {
     "data": {
      "text/html": [
       "<div>\n",
       "<style scoped>\n",
       "    .dataframe tbody tr th:only-of-type {\n",
       "        vertical-align: middle;\n",
       "    }\n",
       "\n",
       "    .dataframe tbody tr th {\n",
       "        vertical-align: top;\n",
       "    }\n",
       "\n",
       "    .dataframe thead th {\n",
       "        text-align: right;\n",
       "    }\n",
       "</style>\n",
       "<table border=\"1\" class=\"dataframe\">\n",
       "  <thead>\n",
       "    <tr style=\"text-align: right;\">\n",
       "      <th></th>\n",
       "      <th>tournament_name</th>\n",
       "      <th>rating_new</th>\n",
       "    </tr>\n",
       "  </thead>\n",
       "  <tbody>\n",
       "    <tr>\n",
       "      <th>643</th>\n",
       "      <td>Чемпионат Санкт-Петербурга. Высшая лига</td>\n",
       "      <td>0.815263</td>\n",
       "    </tr>\n",
       "    <tr>\n",
       "      <th>541</th>\n",
       "      <td>Чемпионат Мира. Финал. Группа А</td>\n",
       "      <td>0.783616</td>\n",
       "    </tr>\n",
       "    <tr>\n",
       "      <th>538</th>\n",
       "      <td>Чемпионат Мира. Этап 3. Группа А</td>\n",
       "      <td>0.779232</td>\n",
       "    </tr>\n",
       "    <tr>\n",
       "      <th>534</th>\n",
       "      <td>Чемпионат Мира. Этап 2. Группа А</td>\n",
       "      <td>0.778732</td>\n",
       "    </tr>\n",
       "    <tr>\n",
       "      <th>531</th>\n",
       "      <td>Чемпионат Мира. Этап 1. Группа А</td>\n",
       "      <td>0.734404</td>\n",
       "    </tr>\n",
       "    <tr>\n",
       "      <th>452</th>\n",
       "      <td>Шестой киевский марафон. Асинхрон</td>\n",
       "      <td>0.728915</td>\n",
       "    </tr>\n",
       "    <tr>\n",
       "      <th>175</th>\n",
       "      <td>Чемпионат России</td>\n",
       "      <td>0.691498</td>\n",
       "    </tr>\n",
       "    <tr>\n",
       "      <th>535</th>\n",
       "      <td>Чемпионат Мира. Этап 2. Группа В</td>\n",
       "      <td>0.686150</td>\n",
       "    </tr>\n",
       "    <tr>\n",
       "      <th>542</th>\n",
       "      <td>Чемпионат Мира. Финал. Группа В</td>\n",
       "      <td>0.685547</td>\n",
       "    </tr>\n",
       "    <tr>\n",
       "      <th>539</th>\n",
       "      <td>Чемпионат Мира. Этап 3. Группа В</td>\n",
       "      <td>0.685066</td>\n",
       "    </tr>\n",
       "  </tbody>\n",
       "</table>\n",
       "</div>"
      ],
      "text/plain": [
       "                             tournament_name  rating_new\n",
       "643  Чемпионат Санкт-Петербурга. Высшая лига    0.815263\n",
       "541          Чемпионат Мира. Финал. Группа А    0.783616\n",
       "538         Чемпионат Мира. Этап 3. Группа А    0.779232\n",
       "534         Чемпионат Мира. Этап 2. Группа А    0.778732\n",
       "531         Чемпионат Мира. Этап 1. Группа А    0.734404\n",
       "452        Шестой киевский марафон. Асинхрон    0.728915\n",
       "175                         Чемпионат России    0.691498\n",
       "535         Чемпионат Мира. Этап 2. Группа В    0.686150\n",
       "542          Чемпионат Мира. Финал. Группа В    0.685547\n",
       "539         Чемпионат Мира. Этап 3. Группа В    0.685066"
      ]
     },
     "execution_count": 53,
     "metadata": {},
     "output_type": "execute_result"
    }
   ],
   "source": [
    "temp_data_train.sort_values('rating_new', ascending=False)[['tournament_name', 'rating_new']].head(10)"
   ]
  }
 ],
 "metadata": {
  "kernelspec": {
   "display_name": "Python 3",
   "language": "python",
   "name": "python3"
  },
  "language_info": {
   "codemirror_mode": {
    "name": "ipython",
    "version": 3
   },
   "file_extension": ".py",
   "mimetype": "text/x-python",
   "name": "python",
   "nbconvert_exporter": "python",
   "pygments_lexer": "ipython3",
   "version": "3.7.3"
  }
 },
 "nbformat": 4,
 "nbformat_minor": 2
}
